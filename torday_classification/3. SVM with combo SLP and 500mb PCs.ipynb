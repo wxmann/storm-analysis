{
 "cells": [
  {
   "cell_type": "code",
   "execution_count": 1,
   "metadata": {},
   "outputs": [],
   "source": [
    "import pandas as pd\n",
    "import numpy as np\n",
    "\n",
    "from sklearn.model_selection import train_test_split\n",
    "from sklearn import svm, metrics"
   ]
  },
  {
   "cell_type": "code",
   "execution_count": 2,
   "metadata": {},
   "outputs": [],
   "source": [
    "tors = pd.read_csv('./tordays_chasealley.csv')\n",
    "slp_pcs = pd.read_csv('./slp_pcs_latemay_1981-2018.csv')\n",
    "h5_pcs = pd.read_csv('./500mb_pcs_latemay_1981-2018.csv')\n",
    "\n",
    "all_pcs = slp_pcs.merge(h5_pcs, on=['date', 'mode'], how='inner', suffixes=['_slp', '_h5'])"
   ]
  },
  {
   "cell_type": "code",
   "execution_count": 3,
   "metadata": {},
   "outputs": [],
   "source": [
    "tor_pcs = all_pcs.merge(tors, on='date', how='inner')\n",
    "tor_pcs['tor'] = tor_pcs['tor'].astype(int)"
   ]
  },
  {
   "cell_type": "code",
   "execution_count": 4,
   "metadata": {},
   "outputs": [
    {
     "data": {
      "text/html": [
       "<div>\n",
       "<style scoped>\n",
       "    .dataframe tbody tr th:only-of-type {\n",
       "        vertical-align: middle;\n",
       "    }\n",
       "\n",
       "    .dataframe tbody tr th {\n",
       "        vertical-align: top;\n",
       "    }\n",
       "\n",
       "    .dataframe thead th {\n",
       "        text-align: right;\n",
       "    }\n",
       "</style>\n",
       "<table border=\"1\" class=\"dataframe\">\n",
       "  <thead>\n",
       "    <tr style=\"text-align: right;\">\n",
       "      <th></th>\n",
       "      <th>date</th>\n",
       "      <th>mode</th>\n",
       "      <th>pcs_slp</th>\n",
       "      <th>pcs_h5</th>\n",
       "      <th>tor</th>\n",
       "    </tr>\n",
       "  </thead>\n",
       "  <tbody>\n",
       "    <tr>\n",
       "      <th>0</th>\n",
       "      <td>1985-05-17</td>\n",
       "      <td>0</td>\n",
       "      <td>-2875.50300</td>\n",
       "      <td>636.52020</td>\n",
       "      <td>0</td>\n",
       "    </tr>\n",
       "    <tr>\n",
       "      <th>1</th>\n",
       "      <td>1985-05-17</td>\n",
       "      <td>1</td>\n",
       "      <td>-8066.75050</td>\n",
       "      <td>27.60290</td>\n",
       "      <td>0</td>\n",
       "    </tr>\n",
       "    <tr>\n",
       "      <th>2</th>\n",
       "      <td>1985-05-17</td>\n",
       "      <td>2</td>\n",
       "      <td>837.58417</td>\n",
       "      <td>-215.67738</td>\n",
       "      <td>0</td>\n",
       "    </tr>\n",
       "    <tr>\n",
       "      <th>3</th>\n",
       "      <td>1985-05-17</td>\n",
       "      <td>3</td>\n",
       "      <td>-1029.76390</td>\n",
       "      <td>-231.10164</td>\n",
       "      <td>0</td>\n",
       "    </tr>\n",
       "    <tr>\n",
       "      <th>4</th>\n",
       "      <td>1985-05-17</td>\n",
       "      <td>4</td>\n",
       "      <td>-214.46526</td>\n",
       "      <td>-188.53261</td>\n",
       "      <td>0</td>\n",
       "    </tr>\n",
       "  </tbody>\n",
       "</table>\n",
       "</div>"
      ],
      "text/plain": [
       "         date  mode     pcs_slp     pcs_h5  tor\n",
       "0  1985-05-17     0 -2875.50300  636.52020    0\n",
       "1  1985-05-17     1 -8066.75050   27.60290    0\n",
       "2  1985-05-17     2   837.58417 -215.67738    0\n",
       "3  1985-05-17     3 -1029.76390 -231.10164    0\n",
       "4  1985-05-17     4  -214.46526 -188.53261    0"
      ]
     },
     "execution_count": 4,
     "metadata": {},
     "output_type": "execute_result"
    }
   ],
   "source": [
    "tor_pcs.head()"
   ]
  },
  {
   "cell_type": "code",
   "execution_count": 24,
   "metadata": {},
   "outputs": [],
   "source": [
    "def svm_classify(nmodes_slp, nmodes_h5, kernel):\n",
    "    slp_feats = tor_pcs[tor_pcs['mode'] < nmodes_slp]['pcs_slp'].values.reshape(-1, nmodes_slp)\n",
    "    h5_feats = tor_pcs[tor_pcs['mode'] < nmodes_h5]['pcs_h5'].values.reshape(-1, nmodes_h5)\n",
    "    features = np.hstack([slp_feats, h5_feats])\n",
    "    targets = tor_pcs[tor_pcs['mode'] == 0].tor.values\n",
    "    assert features.shape[0] == targets.shape[0]\n",
    "    \n",
    "    X_train, X_test, y_train, y_test = train_test_split(features, targets)\n",
    "    print('Training data and target sizes: \\n{}, {}'.format(X_train.shape,y_train.shape))\n",
    "    print('Test data and target sizes: \\n{}, {}'.format(X_test.shape,y_test.shape))\n",
    "    \n",
    "    classifier = svm.SVC(kernel=kernel)\n",
    "    classifier.fit(X_train, y_train)\n",
    "    \n",
    "    y_pred = classifier.predict(X_test)\n",
    "    return classifier, y_test, y_pred"
   ]
  },
  {
   "cell_type": "code",
   "execution_count": 49,
   "metadata": {},
   "outputs": [
    {
     "name": "stdout",
     "output_type": "stream",
     "text": [
      "Training data and target sizes: \n",
      "(382, 6), (382,)\n",
      "Test data and target sizes: \n",
      "(128, 6), (128,)\n"
     ]
    },
    {
     "name": "stderr",
     "output_type": "stream",
     "text": [
      "/Users/jitang/anaconda/envs/storm_analysis_env/lib/python3.7/site-packages/sklearn/svm/base.py:196: FutureWarning: The default value of gamma will change from 'auto' to 'scale' in version 0.22 to account better for unscaled features. Set gamma explicitly to 'auto' or 'scale' to avoid this warning.\n",
      "  \"avoid this warning.\", FutureWarning)\n"
     ]
    }
   ],
   "source": [
    "classifier, y_test, y_pred = svm_classify(4, 2, 'sigmoid')"
   ]
  },
  {
   "cell_type": "code",
   "execution_count": 50,
   "metadata": {},
   "outputs": [
    {
     "name": "stdout",
     "output_type": "stream",
     "text": [
      "              precision    recall  f1-score   support\n",
      "\n",
      "           0       0.76      0.63      0.69        89\n",
      "           1       0.39      0.54      0.45        39\n",
      "\n",
      "   micro avg       0.60      0.60      0.60       128\n",
      "   macro avg       0.57      0.58      0.57       128\n",
      "weighted avg       0.64      0.60      0.62       128\n",
      "\n"
     ]
    }
   ],
   "source": [
    "print(metrics.classification_report(y_test, y_pred))"
   ]
  },
  {
   "cell_type": "code",
   "execution_count": 51,
   "metadata": {},
   "outputs": [
    {
     "data": {
      "text/plain": [
       "(array([1, 0, 0, 1, 1, 1, 1, 0, 0, 0, 0, 0, 0, 0, 1, 1, 0, 1, 1, 0, 0, 0,\n",
       "        0, 1, 0, 0, 0, 1, 1, 0, 0, 0, 0, 1, 1, 1, 1, 0, 1, 0, 0, 0, 1, 0,\n",
       "        0, 0, 1, 0, 0, 1, 1, 0, 0, 1, 0, 1, 0, 0, 0, 1, 0, 1, 0, 0, 0, 0,\n",
       "        0, 0, 0, 0, 0, 1, 0, 0, 0, 1, 0, 1, 1, 1, 0, 1, 0, 1, 0, 1, 0, 1,\n",
       "        0, 0, 0, 0, 1, 1, 0, 0, 1, 1, 1, 1, 1, 1, 0, 0, 1, 1, 0, 0, 1, 1,\n",
       "        1, 0, 1, 0, 1, 0, 0, 0, 0, 1, 0, 1, 0, 0, 1, 1, 1, 0]),\n",
       " array([0, 0, 0, 1, 1, 0, 1, 0, 0, 0, 0, 0, 1, 0, 1, 1, 0, 0, 1, 0, 0, 0,\n",
       "        0, 0, 1, 1, 0, 0, 0, 0, 0, 1, 1, 1, 0, 0, 0, 1, 0, 0, 0, 0, 1, 0,\n",
       "        1, 0, 1, 0, 0, 0, 0, 0, 0, 0, 0, 0, 0, 1, 1, 0, 0, 0, 1, 0, 0, 0,\n",
       "        0, 1, 0, 0, 0, 0, 0, 0, 0, 1, 0, 0, 1, 0, 0, 0, 0, 0, 0, 0, 1, 0,\n",
       "        1, 0, 1, 0, 0, 0, 1, 0, 1, 1, 1, 0, 1, 1, 1, 0, 1, 0, 0, 0, 1, 1,\n",
       "        1, 0, 0, 0, 0, 1, 0, 0, 1, 0, 0, 1, 0, 0, 0, 0, 0, 0]))"
      ]
     },
     "execution_count": 51,
     "metadata": {},
     "output_type": "execute_result"
    }
   ],
   "source": [
    "y_pred, y_test"
   ]
  },
  {
   "cell_type": "code",
   "execution_count": 52,
   "metadata": {},
   "outputs": [
    {
     "name": "stdout",
     "output_type": "stream",
     "text": [
      "Confusion matrix:\n",
      "[[56 33]\n",
      " [18 21]]\n"
     ]
    }
   ],
   "source": [
    "print(\"Confusion matrix:\\n%s\" % metrics.confusion_matrix(y_test, y_pred))"
   ]
  }
 ],
 "metadata": {
  "kernelspec": {
   "display_name": "storm_analysis_env",
   "language": "python",
   "name": "storm_analysis_env"
  },
  "language_info": {
   "codemirror_mode": {
    "name": "ipython",
    "version": 3
   },
   "file_extension": ".py",
   "mimetype": "text/x-python",
   "name": "python",
   "nbconvert_exporter": "python",
   "pygments_lexer": "ipython3",
   "version": "3.7.2"
  }
 },
 "nbformat": 4,
 "nbformat_minor": 4
}
