{
 "cells": [
  {
   "cell_type": "code",
   "execution_count": 1,
   "metadata": {},
   "outputs": [],
   "source": [
    "import pandas as pd\n",
    "import numpy as np\n",
    "\n",
    "from sklearn.model_selection import train_test_split\n",
    "from sklearn import svm, metrics"
   ]
  },
  {
   "cell_type": "code",
   "execution_count": 2,
   "metadata": {},
   "outputs": [],
   "source": [
    "tor_clusts = pd.read_csv('./cluster_db3.csv', parse_dates=['date'])\n",
    "tor_clusts['tor'] = (tor_clusts.max_cluster >= 30).astype(int)"
   ]
  },
  {
   "cell_type": "code",
   "execution_count": 3,
   "metadata": {},
   "outputs": [
    {
     "data": {
      "text/html": [
       "<div>\n",
       "<style scoped>\n",
       "    .dataframe tbody tr th:only-of-type {\n",
       "        vertical-align: middle;\n",
       "    }\n",
       "\n",
       "    .dataframe tbody tr th {\n",
       "        vertical-align: top;\n",
       "    }\n",
       "\n",
       "    .dataframe thead th {\n",
       "        text-align: right;\n",
       "    }\n",
       "</style>\n",
       "<table border=\"1\" class=\"dataframe\">\n",
       "  <thead>\n",
       "    <tr style=\"text-align: right;\">\n",
       "      <th></th>\n",
       "      <th>date</th>\n",
       "      <th>max_cluster</th>\n",
       "      <th>tor</th>\n",
       "    </tr>\n",
       "  </thead>\n",
       "  <tbody>\n",
       "    <tr>\n",
       "      <th>0</th>\n",
       "      <td>1996-04-01</td>\n",
       "      <td>0</td>\n",
       "      <td>0</td>\n",
       "    </tr>\n",
       "    <tr>\n",
       "      <th>1</th>\n",
       "      <td>1996-04-02</td>\n",
       "      <td>0</td>\n",
       "      <td>0</td>\n",
       "    </tr>\n",
       "    <tr>\n",
       "      <th>2</th>\n",
       "      <td>1996-04-03</td>\n",
       "      <td>0</td>\n",
       "      <td>0</td>\n",
       "    </tr>\n",
       "    <tr>\n",
       "      <th>3</th>\n",
       "      <td>1996-04-04</td>\n",
       "      <td>0</td>\n",
       "      <td>0</td>\n",
       "    </tr>\n",
       "    <tr>\n",
       "      <th>4</th>\n",
       "      <td>1996-04-05</td>\n",
       "      <td>0</td>\n",
       "      <td>0</td>\n",
       "    </tr>\n",
       "  </tbody>\n",
       "</table>\n",
       "</div>"
      ],
      "text/plain": [
       "        date  max_cluster  tor\n",
       "0 1996-04-01            0    0\n",
       "1 1996-04-02            0    0\n",
       "2 1996-04-03            0    0\n",
       "3 1996-04-04            0    0\n",
       "4 1996-04-05            0    0"
      ]
     },
     "execution_count": 3,
     "metadata": {},
     "output_type": "execute_result"
    }
   ],
   "source": [
    "tor_clusts.head()"
   ]
  },
  {
   "cell_type": "code",
   "execution_count": 4,
   "metadata": {},
   "outputs": [
    {
     "data": {
      "text/plain": [
       "(58, 3)"
      ]
     },
     "execution_count": 4,
     "metadata": {},
     "output_type": "execute_result"
    }
   ],
   "source": [
    "tor_clusts[(tor_clusts.max_cluster >= 30) & (tor_clusts.date.dt.month == 5) & (tor_clusts.date.dt.day >= 16)].shape"
   ]
  },
  {
   "cell_type": "code",
   "execution_count": 5,
   "metadata": {},
   "outputs": [],
   "source": [
    "slp_pcs = pd.read_csv('./slp_pcs_latemay_1981-2018.csv', parse_dates=['date'])\n",
    "slp_pcs['date'] -= pd.Timedelta('1 day')\n",
    "h5_pcs = pd.read_csv('./500mb_pcs_latemay_1981-2018.csv', parse_dates=['date'])\n",
    "h5_pcs['date'] -= pd.Timedelta('1 day')\n",
    "\n",
    "all_pcs = slp_pcs.merge(h5_pcs, on=['date', 'mode'], how='inner', suffixes=['_slp', '_h5'])\n",
    "tor_pcs = all_pcs.merge(tor_clusts, on='date', how='inner')"
   ]
  },
  {
   "cell_type": "code",
   "execution_count": 6,
   "metadata": {},
   "outputs": [
    {
     "data": {
      "text/html": [
       "<div>\n",
       "<style scoped>\n",
       "    .dataframe tbody tr th:only-of-type {\n",
       "        vertical-align: middle;\n",
       "    }\n",
       "\n",
       "    .dataframe tbody tr th {\n",
       "        vertical-align: top;\n",
       "    }\n",
       "\n",
       "    .dataframe thead th {\n",
       "        text-align: right;\n",
       "    }\n",
       "</style>\n",
       "<table border=\"1\" class=\"dataframe\">\n",
       "  <thead>\n",
       "    <tr style=\"text-align: right;\">\n",
       "      <th></th>\n",
       "      <th>date</th>\n",
       "      <th>mode</th>\n",
       "      <th>pcs_slp</th>\n",
       "      <th>pcs_h5</th>\n",
       "      <th>max_cluster</th>\n",
       "      <th>tor</th>\n",
       "    </tr>\n",
       "  </thead>\n",
       "  <tbody>\n",
       "    <tr>\n",
       "      <th>3515</th>\n",
       "      <td>2017-05-31</td>\n",
       "      <td>5</td>\n",
       "      <td>-384.43347</td>\n",
       "      <td>-210.680150</td>\n",
       "      <td>0</td>\n",
       "      <td>0</td>\n",
       "    </tr>\n",
       "    <tr>\n",
       "      <th>3516</th>\n",
       "      <td>2017-05-31</td>\n",
       "      <td>6</td>\n",
       "      <td>163.89230</td>\n",
       "      <td>-250.171750</td>\n",
       "      <td>0</td>\n",
       "      <td>0</td>\n",
       "    </tr>\n",
       "    <tr>\n",
       "      <th>3517</th>\n",
       "      <td>2017-05-31</td>\n",
       "      <td>7</td>\n",
       "      <td>-843.63620</td>\n",
       "      <td>-62.726982</td>\n",
       "      <td>0</td>\n",
       "      <td>0</td>\n",
       "    </tr>\n",
       "    <tr>\n",
       "      <th>3518</th>\n",
       "      <td>2017-05-31</td>\n",
       "      <td>8</td>\n",
       "      <td>43.86753</td>\n",
       "      <td>153.715500</td>\n",
       "      <td>0</td>\n",
       "      <td>0</td>\n",
       "    </tr>\n",
       "    <tr>\n",
       "      <th>3519</th>\n",
       "      <td>2017-05-31</td>\n",
       "      <td>9</td>\n",
       "      <td>-380.98560</td>\n",
       "      <td>245.539290</td>\n",
       "      <td>0</td>\n",
       "      <td>0</td>\n",
       "    </tr>\n",
       "  </tbody>\n",
       "</table>\n",
       "</div>"
      ],
      "text/plain": [
       "           date  mode    pcs_slp      pcs_h5  max_cluster  tor\n",
       "3515 2017-05-31     5 -384.43347 -210.680150            0    0\n",
       "3516 2017-05-31     6  163.89230 -250.171750            0    0\n",
       "3517 2017-05-31     7 -843.63620  -62.726982            0    0\n",
       "3518 2017-05-31     8   43.86753  153.715500            0    0\n",
       "3519 2017-05-31     9 -380.98560  245.539290            0    0"
      ]
     },
     "execution_count": 6,
     "metadata": {},
     "output_type": "execute_result"
    }
   ],
   "source": [
    "tor_pcs.tail()"
   ]
  },
  {
   "cell_type": "code",
   "execution_count": 208,
   "metadata": {},
   "outputs": [],
   "source": [
    "tor_pcs_scaled = tor_pcs.copy()\n",
    "unscaled_slp_pcs = tor_pcs['pcs_slp']\n",
    "unscaled_h5_pcs = tor_pcs['pcs_h5'] \n",
    "tor_pcs_scaled['pcs_slp'] = unscaled_slp_pcs / unscaled_slp_pcs.std()\n",
    "tor_pcs_scaled['pcs_h5'] = unscaled_h5_pcs / unscaled_h5_pcs.std()"
   ]
  },
  {
   "cell_type": "code",
   "execution_count": 209,
   "metadata": {},
   "outputs": [
    {
     "data": {
      "text/html": [
       "<div>\n",
       "<style scoped>\n",
       "    .dataframe tbody tr th:only-of-type {\n",
       "        vertical-align: middle;\n",
       "    }\n",
       "\n",
       "    .dataframe tbody tr th {\n",
       "        vertical-align: top;\n",
       "    }\n",
       "\n",
       "    .dataframe thead th {\n",
       "        text-align: right;\n",
       "    }\n",
       "</style>\n",
       "<table border=\"1\" class=\"dataframe\">\n",
       "  <thead>\n",
       "    <tr style=\"text-align: right;\">\n",
       "      <th></th>\n",
       "      <th>date</th>\n",
       "      <th>mode</th>\n",
       "      <th>pcs_slp</th>\n",
       "      <th>pcs_h5</th>\n",
       "      <th>max_cluster</th>\n",
       "      <th>tor</th>\n",
       "    </tr>\n",
       "  </thead>\n",
       "  <tbody>\n",
       "    <tr>\n",
       "      <th>3515</th>\n",
       "      <td>2017-05-31</td>\n",
       "      <td>5</td>\n",
       "      <td>-0.178443</td>\n",
       "      <td>-0.670099</td>\n",
       "      <td>0</td>\n",
       "      <td>0</td>\n",
       "    </tr>\n",
       "    <tr>\n",
       "      <th>3516</th>\n",
       "      <td>2017-05-31</td>\n",
       "      <td>6</td>\n",
       "      <td>0.076074</td>\n",
       "      <td>-0.795708</td>\n",
       "      <td>0</td>\n",
       "      <td>0</td>\n",
       "    </tr>\n",
       "    <tr>\n",
       "      <th>3517</th>\n",
       "      <td>2017-05-31</td>\n",
       "      <td>7</td>\n",
       "      <td>-0.391591</td>\n",
       "      <td>-0.199512</td>\n",
       "      <td>0</td>\n",
       "      <td>0</td>\n",
       "    </tr>\n",
       "    <tr>\n",
       "      <th>3518</th>\n",
       "      <td>2017-05-31</td>\n",
       "      <td>8</td>\n",
       "      <td>0.020362</td>\n",
       "      <td>0.488915</td>\n",
       "      <td>0</td>\n",
       "      <td>0</td>\n",
       "    </tr>\n",
       "    <tr>\n",
       "      <th>3519</th>\n",
       "      <td>2017-05-31</td>\n",
       "      <td>9</td>\n",
       "      <td>-0.176842</td>\n",
       "      <td>0.780974</td>\n",
       "      <td>0</td>\n",
       "      <td>0</td>\n",
       "    </tr>\n",
       "  </tbody>\n",
       "</table>\n",
       "</div>"
      ],
      "text/plain": [
       "           date  mode   pcs_slp    pcs_h5  max_cluster  tor\n",
       "3515 2017-05-31     5 -0.178443 -0.670099            0    0\n",
       "3516 2017-05-31     6  0.076074 -0.795708            0    0\n",
       "3517 2017-05-31     7 -0.391591 -0.199512            0    0\n",
       "3518 2017-05-31     8  0.020362  0.488915            0    0\n",
       "3519 2017-05-31     9 -0.176842  0.780974            0    0"
      ]
     },
     "execution_count": 209,
     "metadata": {},
     "output_type": "execute_result"
    }
   ],
   "source": [
    "tor_pcs_scaled.tail()"
   ]
  },
  {
   "cell_type": "code",
   "execution_count": 463,
   "metadata": {},
   "outputs": [],
   "source": [
    "def svm_classify(modes_slp, modes_h5, kernel, tol=1e-3, test_size=0.25):\n",
    "    if isinstance(modes_slp, int):\n",
    "        modes_slp = range(0, modes_slp)\n",
    "    if isinstance(modes_h5, int):\n",
    "        modes_h5 = range(0, modes_h5)\n",
    "        \n",
    "    slp_feats = tor_pcs_scaled[tor_pcs_scaled['mode'].isin(modes_slp)]['pcs_slp'].values\n",
    "    h5_feats = tor_pcs_scaled[tor_pcs_scaled['mode'].isin(modes_h5)]['pcs_h5'].values\n",
    "    \n",
    "    feats_combined = []\n",
    "    if slp_feats.any():\n",
    "        feats_combined.append(slp_feats.reshape(-1, len(modes_slp)))\n",
    "    if h5_feats.any():\n",
    "        feats_combined.append(h5_feats.reshape(-1, len(modes_h5)))\n",
    "        \n",
    "    features = np.hstack(feats_combined)\n",
    "    targets = tor_pcs[tor_pcs['mode'] == 0].tor.values\n",
    "    assert features.shape[0] == targets.shape[0]\n",
    "    \n",
    "    X_train, X_test, y_train, y_test = train_test_split(features, targets, test_size=test_size)\n",
    "    print('Training data and target sizes: \\n{}, {}'.format(X_train.shape,y_train.shape))\n",
    "    print('Test data and target sizes: \\n{}, {}'.format(X_test.shape,y_test.shape))\n",
    "    \n",
    "    classifier = svm.SVC(kernel=kernel, tol=tol, gamma='scale')\n",
    "    classifier.fit(X_train, y_train)\n",
    "    \n",
    "    y_pred = classifier.predict(X_test)\n",
    "    return classifier, y_test, y_pred"
   ]
  },
  {
   "cell_type": "code",
   "execution_count": 496,
   "metadata": {},
   "outputs": [
    {
     "name": "stdout",
     "output_type": "stream",
     "text": [
      "Training data and target sizes: \n",
      "(211, 5), (211,)\n",
      "Test data and target sizes: \n",
      "(141, 5), (141,)\n",
      "              precision    recall  f1-score   support\n",
      "\n",
      "           0       0.85      0.95      0.90       117\n",
      "           1       0.40      0.17      0.24        24\n",
      "\n",
      "   micro avg       0.82      0.82      0.82       141\n",
      "   macro avg       0.62      0.56      0.57       141\n",
      "weighted avg       0.77      0.82      0.78       141\n",
      "\n",
      "\n",
      "Confusion matrix:\n",
      "[[111   6]\n",
      " [ 20   4]]\n",
      "\n",
      "Predictions:\n",
      "[0 0 0 0 1 0 0 0 0 0 1 1 0 0 0 0 0 0 0 0 0 0 0 0 0 0 1 0 0 0 0 0 0 0 1 0 0\n",
      " 0 0 0 0 0 0 0 0 0 0 0 0 0 0 0 0 0 0 0 0 0 0 0 0 1 0 0 1 0 0 0 0 0 0 0 0 0\n",
      " 0 0 0 0 0 0 1 0 0 0 0 0 0 0 1 0 0 0 0 0 0 0 0 0 0 0 0 0 0 0 0 0 1 0 0 0 0\n",
      " 0 0 0 0 0 0 0 0 0 0 0 0 0 0 0 0 0 0 0 0 0 0 0 0 0 0 0 0 0 0]\n",
      "Actuals:\n",
      "[1 0 0 0 0 0 0 0 0 0 0 0 0 0 1 0 1 0 0 0 0 0 1 0 0 1 0 0 1 0 0 0 0 0 1 0 1\n",
      " 0 1 0 0 0 0 1 0 0 0 0 0 0 1 0 0 0 0 0 0 0 0 0 0 0 0 0 1 0 0 0 0 1 0 0 0 0\n",
      " 0 0 0 0 0 1 0 0 0 0 0 1 0 0 1 1 0 0 0 1 0 0 0 1 0 0 0 0 0 1 1 0 1 0 0 1 0\n",
      " 0 0 0 0 0 0 0 0 0 0 0 0 0 0 0 0 0 0 0 0 0 0 0 0 0 0 0 0 0 1]\n"
     ]
    }
   ],
   "source": [
    "classifier, y_test, y_pred = svm_classify([1], 4, 'sigmoid', test_size=0.4)\n",
    "\n",
    "print(metrics.classification_report(y_test, y_pred) + '\\n')\n",
    "print(\"Confusion matrix:\\n%s\" % metrics.confusion_matrix(y_test, y_pred) + '\\n')\n",
    "print('Predictions:\\n%s' % y_pred)\n",
    "print('Actuals:\\n%s' % y_test)"
   ]
  }
 ],
 "metadata": {
  "kernelspec": {
   "display_name": "storm_analysis_env",
   "language": "python",
   "name": "storm_analysis_env"
  },
  "language_info": {
   "codemirror_mode": {
    "name": "ipython",
    "version": 3
   },
   "file_extension": ".py",
   "mimetype": "text/x-python",
   "name": "python",
   "nbconvert_exporter": "python",
   "pygments_lexer": "ipython3",
   "version": "3.7.2"
  }
 },
 "nbformat": 4,
 "nbformat_minor": 4
}
